{
 "cells": [
  {
   "cell_type": "markdown",
   "id": "b4104b77",
   "metadata": {
    "papermill": {
     "duration": 0.007714,
     "end_time": "2022-09-30T19:12:47.145372",
     "exception": false,
     "start_time": "2022-09-30T19:12:47.137658",
     "status": "completed"
    },
    "tags": []
   },
   "source": [
    "**This notebook is an exercise in the [Feature Engineering](https://www.kaggle.com/learn/feature-engineering) course.  You can reference the tutorial at [this link](https://www.kaggle.com/ryanholbrook/creating-features).**\n",
    "\n",
    "---\n"
   ]
  },
  {
   "cell_type": "markdown",
   "id": "020bdb33",
   "metadata": {
    "papermill": {
     "duration": 0.005635,
     "end_time": "2022-09-30T19:12:47.157119",
     "exception": false,
     "start_time": "2022-09-30T19:12:47.151484",
     "status": "completed"
    },
    "tags": []
   },
   "source": [
    "# Introduction #\n",
    "\n",
    "In this exercise you'll start developing the features you identified in Exercise 2 as having the most potential. As you work through this exercise, you might take a moment to look at the data documentation again and consider whether the features we're creating make sense from a real-world perspective, and whether there are any useful combinations that stand out to you.\n",
    "\n",
    "Run this cell to set everything up!"
   ]
  },
  {
   "cell_type": "code",
   "execution_count": 1,
   "id": "311b4cff",
   "metadata": {
    "execution": {
     "iopub.execute_input": "2022-09-30T19:12:47.171361Z",
     "iopub.status.busy": "2022-09-30T19:12:47.170736Z",
     "iopub.status.idle": "2022-09-30T19:12:48.656827Z",
     "shell.execute_reply": "2022-09-30T19:12:48.654831Z"
    },
    "papermill": {
     "duration": 1.497764,
     "end_time": "2022-09-30T19:12:48.660891",
     "exception": false,
     "start_time": "2022-09-30T19:12:47.163127",
     "status": "completed"
    },
    "tags": []
   },
   "outputs": [],
   "source": [
    "# Setup feedback system\n",
    "from learntools.core import binder\n",
    "binder.bind(globals())\n",
    "from learntools.feature_engineering_new.ex3 import *\n",
    "\n",
    "import numpy as np\n",
    "import pandas as pd\n",
    "from sklearn.model_selection import cross_val_score\n",
    "from xgboost import XGBRegressor\n",
    "\n",
    "\n",
    "def score_dataset(X, y, model=XGBRegressor()):\n",
    "    # Label encoding for categoricals\n",
    "    for colname in X.select_dtypes([\"category\", \"object\"]):\n",
    "        X[colname], _ = X[colname].factorize()\n",
    "    # Metric for Housing competition is RMSLE (Root Mean Squared Log Error)\n",
    "    score = cross_val_score(\n",
    "        model, X, y, cv=5, scoring=\"neg_mean_squared_log_error\",\n",
    "    )\n",
    "    score = -1 * score.mean()\n",
    "    score = np.sqrt(score)\n",
    "    return score\n",
    "\n",
    "\n",
    "# Prepare data\n",
    "df = pd.read_csv(\"../input/fe-course-data/ames.csv\")\n",
    "X = df.copy()\n",
    "y = X.pop(\"SalePrice\")"
   ]
  },
  {
   "cell_type": "markdown",
   "id": "ccf84fcf",
   "metadata": {
    "papermill": {
     "duration": 0.008903,
     "end_time": "2022-09-30T19:12:48.679627",
     "exception": false,
     "start_time": "2022-09-30T19:12:48.670724",
     "status": "completed"
    },
    "tags": []
   },
   "source": [
    "-------------------------------------------------------------------------------\n",
    "\n",
    "Let's start with a few mathematical combinations. We'll focus on features describing areas -- having the same units (square-feet) makes it easy to combine them in sensible ways. Since we're using XGBoost (a tree-based model), we'll focus on ratios and sums.\n",
    "\n",
    "# 1) Create Mathematical Transforms\n",
    "\n",
    "Create the following features:\n",
    "\n",
    "- `LivLotRatio`: the ratio of `GrLivArea` to `LotArea`\n",
    "- `Spaciousness`: the sum of `FirstFlrSF` and `SecondFlrSF` divided by `TotRmsAbvGrd`\n",
    "- `TotalOutsideSF`: the sum of `WoodDeckSF`, `OpenPorchSF`, `EnclosedPorch`, `Threeseasonporch`, and `ScreenPorch`"
   ]
  },
  {
   "cell_type": "code",
   "execution_count": null,
   "id": "b80a37fb",
   "metadata": {
    "papermill": {
     "duration": 0.008911,
     "end_time": "2022-09-30T19:12:48.698652",
     "exception": false,
     "start_time": "2022-09-30T19:12:48.689741",
     "status": "completed"
    },
    "tags": []
   },
   "outputs": [],
   "source": []
  },
  {
   "cell_type": "code",
   "execution_count": 2,
   "id": "48fe00cb",
   "metadata": {
    "execution": {
     "iopub.execute_input": "2022-09-30T19:12:48.716254Z",
     "iopub.status.busy": "2022-09-30T19:12:48.715319Z",
     "iopub.status.idle": "2022-09-30T19:12:48.744518Z",
     "shell.execute_reply": "2022-09-30T19:12:48.743367Z"
    },
    "lines_to_next_cell": 0,
    "papermill": {
     "duration": 0.040136,
     "end_time": "2022-09-30T19:12:48.747597",
     "exception": false,
     "start_time": "2022-09-30T19:12:48.707461",
     "status": "completed"
    },
    "tags": []
   },
   "outputs": [
    {
     "data": {
      "application/javascript": [
       "parent.postMessage({\"jupyterEvent\": \"custom.exercise_interaction\", \"data\": {\"outcomeType\": 1, \"valueTowardsCompletion\": 0.2, \"interactionType\": 1, \"questionType\": 2, \"questionId\": \"1_Q1\", \"learnToolsVersion\": \"0.3.4\", \"failureMessage\": \"\", \"exceptionClass\": \"\", \"trace\": \"\"}}, \"*\")"
      ],
      "text/plain": [
       "<IPython.core.display.Javascript object>"
      ]
     },
     "metadata": {},
     "output_type": "display_data"
    },
    {
     "data": {
      "text/markdown": [
       "<span style=\"color:#33cc33\">Correct</span>"
      ],
      "text/plain": [
       "Correct"
      ]
     },
     "metadata": {},
     "output_type": "display_data"
    }
   ],
   "source": [
    "# YOUR CODE HERE\n",
    "X_1 = pd.DataFrame()  # dataframe to hold new features\n",
    "\n",
    "X_1[\"LivLotRatio\"] = df.GrLivArea / df.LotArea\n",
    "X_1[\"Spaciousness\"] = (df.FirstFlrSF + df.SecondFlrSF) / df.TotRmsAbvGrd\n",
    "X_1[\"TotalOutsideSF\"] = df.WoodDeckSF + df.OpenPorchSF + df.EnclosedPorch + df.Threeseasonporch + df.ScreenPorch\n",
    "\n",
    "\n",
    "# Check your answer\n",
    "q_1.check()"
   ]
  },
  {
   "cell_type": "code",
   "execution_count": 3,
   "id": "7d3737b2",
   "metadata": {
    "execution": {
     "iopub.execute_input": "2022-09-30T19:12:48.768756Z",
     "iopub.status.busy": "2022-09-30T19:12:48.767539Z",
     "iopub.status.idle": "2022-09-30T19:12:48.773155Z",
     "shell.execute_reply": "2022-09-30T19:12:48.771992Z"
    },
    "lines_to_next_cell": 0,
    "papermill": {
     "duration": 0.019138,
     "end_time": "2022-09-30T19:12:48.775911",
     "exception": false,
     "start_time": "2022-09-30T19:12:48.756773",
     "status": "completed"
    },
    "tags": []
   },
   "outputs": [],
   "source": [
    "# Lines below will give you a hint or solution code\n",
    "#q_1.hint()\n",
    "# q_1.solution()"
   ]
  },
  {
   "cell_type": "markdown",
   "id": "c93e420a",
   "metadata": {
    "papermill": {
     "duration": 0.007293,
     "end_time": "2022-09-30T19:12:48.792139",
     "exception": false,
     "start_time": "2022-09-30T19:12:48.784846",
     "status": "completed"
    },
    "tags": []
   },
   "source": [
    "-------------------------------------------------------------------------------\n",
    "\n",
    "If you've discovered an interaction effect between a numeric feature and a categorical feature, you might want to model it explicitly using a one-hot encoding, like so:\n",
    "\n",
    "```\n",
    "# One-hot encode Categorical feature, adding a column prefix \"Cat\"\n",
    "X_new = pd.get_dummies(df.Categorical, prefix=\"Cat\")\n",
    "\n",
    "# Multiply row-by-row\n",
    "X_new = X_new.mul(df.Continuous, axis=0)\n",
    "\n",
    "# Join the new features to the feature set\n",
    "X = X.join(X_new)\n",
    "```\n",
    "\n",
    "# 2) Interaction with a Categorical\n",
    "\n",
    "We discovered an interaction between `BldgType` and `GrLivArea` in Exercise 2. Now create their interaction features."
   ]
  },
  {
   "cell_type": "code",
   "execution_count": 4,
   "id": "c55747a0",
   "metadata": {
    "execution": {
     "iopub.execute_input": "2022-09-30T19:12:48.807565Z",
     "iopub.status.busy": "2022-09-30T19:12:48.806643Z",
     "iopub.status.idle": "2022-09-30T19:12:48.823901Z",
     "shell.execute_reply": "2022-09-30T19:12:48.822745Z"
    },
    "lines_to_next_cell": 0,
    "papermill": {
     "duration": 0.027686,
     "end_time": "2022-09-30T19:12:48.826306",
     "exception": false,
     "start_time": "2022-09-30T19:12:48.798620",
     "status": "completed"
    },
    "tags": []
   },
   "outputs": [
    {
     "data": {
      "application/javascript": [
       "parent.postMessage({\"jupyterEvent\": \"custom.exercise_interaction\", \"data\": {\"outcomeType\": 1, \"valueTowardsCompletion\": 0.2, \"interactionType\": 1, \"questionType\": 2, \"questionId\": \"2_Q2\", \"learnToolsVersion\": \"0.3.4\", \"failureMessage\": \"\", \"exceptionClass\": \"\", \"trace\": \"\"}}, \"*\")"
      ],
      "text/plain": [
       "<IPython.core.display.Javascript object>"
      ]
     },
     "metadata": {},
     "output_type": "display_data"
    },
    {
     "data": {
      "text/markdown": [
       "<span style=\"color:#33cc33\">Correct</span>"
      ],
      "text/plain": [
       "Correct"
      ]
     },
     "metadata": {},
     "output_type": "display_data"
    }
   ],
   "source": [
    "# YOUR CODE HERE\n",
    "# One-hot encode BldgType. Use `prefix=\"Bldg\"` in `get_dummies`\n",
    "X_2 = pd.get_dummies(df.BldgType, prefix=\"Bldg\")\n",
    "X_2 = X_2.mul(df.GrLivArea, axis=0)\n",
    "\n",
    "# Check your answer\n",
    "q_2.check()"
   ]
  },
  {
   "cell_type": "code",
   "execution_count": 5,
   "id": "5e3bcf27",
   "metadata": {
    "execution": {
     "iopub.execute_input": "2022-09-30T19:12:48.841052Z",
     "iopub.status.busy": "2022-09-30T19:12:48.840620Z",
     "iopub.status.idle": "2022-09-30T19:12:48.845816Z",
     "shell.execute_reply": "2022-09-30T19:12:48.844320Z"
    },
    "lines_to_next_cell": 0,
    "papermill": {
     "duration": 0.015472,
     "end_time": "2022-09-30T19:12:48.848226",
     "exception": false,
     "start_time": "2022-09-30T19:12:48.832754",
     "status": "completed"
    },
    "tags": []
   },
   "outputs": [],
   "source": [
    "# Lines below will give you a hint or solution code\n",
    "#q_2.hint()\n",
    "# q_2.solution()"
   ]
  },
  {
   "cell_type": "markdown",
   "id": "82878592",
   "metadata": {
    "lines_to_next_cell": 0,
    "papermill": {
     "duration": 0.006172,
     "end_time": "2022-09-30T19:12:48.861563",
     "exception": false,
     "start_time": "2022-09-30T19:12:48.855391",
     "status": "completed"
    },
    "tags": []
   },
   "source": [
    "# 3) Count Feature\n",
    "\n",
    "Let's try creating a feature that describes how many kinds of outdoor areas a dwelling has. Create a feature `PorchTypes` that counts how many of the following are greater than 0.0:\n",
    "\n",
    "```\n",
    "WoodDeckSF\n",
    "OpenPorchSF\n",
    "EnclosedPorch\n",
    "Threeseasonporch\n",
    "ScreenPorch\n",
    "```"
   ]
  },
  {
   "cell_type": "code",
   "execution_count": 6,
   "id": "509e8917",
   "metadata": {
    "execution": {
     "iopub.execute_input": "2022-09-30T19:12:48.878832Z",
     "iopub.status.busy": "2022-09-30T19:12:48.878406Z",
     "iopub.status.idle": "2022-09-30T19:12:48.899403Z",
     "shell.execute_reply": "2022-09-30T19:12:48.898322Z"
    },
    "lines_to_next_cell": 0,
    "papermill": {
     "duration": 0.033224,
     "end_time": "2022-09-30T19:12:48.901950",
     "exception": false,
     "start_time": "2022-09-30T19:12:48.868726",
     "status": "completed"
    },
    "tags": []
   },
   "outputs": [
    {
     "data": {
      "application/javascript": [
       "parent.postMessage({\"jupyterEvent\": \"custom.exercise_interaction\", \"data\": {\"outcomeType\": 1, \"valueTowardsCompletion\": 0.2, \"interactionType\": 1, \"questionType\": 2, \"questionId\": \"3_Q3\", \"learnToolsVersion\": \"0.3.4\", \"failureMessage\": \"\", \"exceptionClass\": \"\", \"trace\": \"\"}}, \"*\")"
      ],
      "text/plain": [
       "<IPython.core.display.Javascript object>"
      ]
     },
     "metadata": {},
     "output_type": "display_data"
    },
    {
     "data": {
      "text/markdown": [
       "<span style=\"color:#33cc33\">Correct</span>"
      ],
      "text/plain": [
       "Correct"
      ]
     },
     "metadata": {},
     "output_type": "display_data"
    }
   ],
   "source": [
    "X_3 = pd.DataFrame()\n",
    "\n",
    "# YOUR CODE HERE\n",
    "X_3[\"PorchTypes\"] = df[[\n",
    "    \"WoodDeckSF\",\n",
    "    \"OpenPorchSF\",\n",
    "    \"EnclosedPorch\",\n",
    "    \"Threeseasonporch\",\n",
    "    \"ScreenPorch\",\n",
    "]].gt(0.0).sum(axis=1)\n",
    "\n",
    "\n",
    "# Check your answer\n",
    "q_3.check()"
   ]
  },
  {
   "cell_type": "code",
   "execution_count": 7,
   "id": "b9fef82b",
   "metadata": {
    "execution": {
     "iopub.execute_input": "2022-09-30T19:12:48.918381Z",
     "iopub.status.busy": "2022-09-30T19:12:48.917544Z",
     "iopub.status.idle": "2022-09-30T19:12:48.923262Z",
     "shell.execute_reply": "2022-09-30T19:12:48.921813Z"
    },
    "lines_to_next_cell": 0,
    "papermill": {
     "duration": 0.016817,
     "end_time": "2022-09-30T19:12:48.925898",
     "exception": false,
     "start_time": "2022-09-30T19:12:48.909081",
     "status": "completed"
    },
    "tags": []
   },
   "outputs": [],
   "source": [
    "# Lines below will give you a hint or solution code\n",
    "#q_3.hint()\n",
    "# q_3.solution()"
   ]
  },
  {
   "cell_type": "markdown",
   "id": "06e2cd0e",
   "metadata": {
    "papermill": {
     "duration": 0.007096,
     "end_time": "2022-09-30T19:12:48.940412",
     "exception": false,
     "start_time": "2022-09-30T19:12:48.933316",
     "status": "completed"
    },
    "tags": []
   },
   "source": [
    "# 4) Break Down a Categorical Feature\n",
    "\n",
    "`MSSubClass` describes the type of a dwelling:"
   ]
  },
  {
   "cell_type": "code",
   "execution_count": 8,
   "id": "7db8e203",
   "metadata": {
    "execution": {
     "iopub.execute_input": "2022-09-30T19:12:48.955698Z",
     "iopub.status.busy": "2022-09-30T19:12:48.955267Z",
     "iopub.status.idle": "2022-09-30T19:12:48.965458Z",
     "shell.execute_reply": "2022-09-30T19:12:48.963524Z"
    },
    "papermill": {
     "duration": 0.020725,
     "end_time": "2022-09-30T19:12:48.968017",
     "exception": false,
     "start_time": "2022-09-30T19:12:48.947292",
     "status": "completed"
    },
    "tags": []
   },
   "outputs": [
    {
     "data": {
      "text/plain": [
       "array(['One_Story_1946_and_Newer_All_Styles', 'Two_Story_1946_and_Newer',\n",
       "       'One_Story_PUD_1946_and_Newer',\n",
       "       'One_and_Half_Story_Finished_All_Ages', 'Split_Foyer',\n",
       "       'Two_Story_PUD_1946_and_Newer', 'Split_or_Multilevel',\n",
       "       'One_Story_1945_and_Older', 'Duplex_All_Styles_and_Ages',\n",
       "       'Two_Family_conversion_All_Styles_and_Ages',\n",
       "       'One_and_Half_Story_Unfinished_All_Ages',\n",
       "       'Two_Story_1945_and_Older', 'Two_and_Half_Story_All_Ages',\n",
       "       'One_Story_with_Finished_Attic_All_Ages',\n",
       "       'PUD_Multilevel_Split_Level_Foyer',\n",
       "       'One_and_Half_Story_PUD_All_Ages'], dtype=object)"
      ]
     },
     "execution_count": 8,
     "metadata": {},
     "output_type": "execute_result"
    }
   ],
   "source": [
    "df.MSSubClass.unique()"
   ]
  },
  {
   "cell_type": "markdown",
   "id": "8111e542",
   "metadata": {
    "papermill": {
     "duration": 0.006776,
     "end_time": "2022-09-30T19:12:48.981615",
     "exception": false,
     "start_time": "2022-09-30T19:12:48.974839",
     "status": "completed"
    },
    "tags": []
   },
   "source": [
    "You can see that there is a more general categorization described (roughly) by the first word of each category. Create a feature containing only these first words by splitting `MSSubClass` at the first underscore `_`. (Hint: In the `split` method use an argument `n=1`.)"
   ]
  },
  {
   "cell_type": "code",
   "execution_count": 9,
   "id": "79875a8f",
   "metadata": {
    "execution": {
     "iopub.execute_input": "2022-09-30T19:12:48.997742Z",
     "iopub.status.busy": "2022-09-30T19:12:48.996910Z",
     "iopub.status.idle": "2022-09-30T19:12:49.025417Z",
     "shell.execute_reply": "2022-09-30T19:12:49.023936Z"
    },
    "lines_to_next_cell": 0,
    "papermill": {
     "duration": 0.039166,
     "end_time": "2022-09-30T19:12:49.028010",
     "exception": false,
     "start_time": "2022-09-30T19:12:48.988844",
     "status": "completed"
    },
    "tags": []
   },
   "outputs": [
    {
     "data": {
      "application/javascript": [
       "parent.postMessage({\"jupyterEvent\": \"custom.exercise_interaction\", \"data\": {\"outcomeType\": 1, \"valueTowardsCompletion\": 0.2, \"interactionType\": 1, \"questionType\": 2, \"questionId\": \"4_Q4\", \"learnToolsVersion\": \"0.3.4\", \"failureMessage\": \"\", \"exceptionClass\": \"\", \"trace\": \"\"}}, \"*\")"
      ],
      "text/plain": [
       "<IPython.core.display.Javascript object>"
      ]
     },
     "metadata": {},
     "output_type": "display_data"
    },
    {
     "data": {
      "text/markdown": [
       "<span style=\"color:#33cc33\">Correct</span>"
      ],
      "text/plain": [
       "Correct"
      ]
     },
     "metadata": {},
     "output_type": "display_data"
    }
   ],
   "source": [
    "X_4 = pd.DataFrame()\n",
    "\n",
    "# YOUR CODE HERE\n",
    "X_4[\"MSClass\"] = df.MSSubClass.str.split(\"_\", n=1, expand=True)[0]\n",
    "\n",
    "# Check your answer\n",
    "q_4.check()"
   ]
  },
  {
   "cell_type": "code",
   "execution_count": 10,
   "id": "12e61279",
   "metadata": {
    "execution": {
     "iopub.execute_input": "2022-09-30T19:12:49.045340Z",
     "iopub.status.busy": "2022-09-30T19:12:49.044287Z",
     "iopub.status.idle": "2022-09-30T19:12:49.049912Z",
     "shell.execute_reply": "2022-09-30T19:12:49.048712Z"
    },
    "lines_to_next_cell": 0,
    "papermill": {
     "duration": 0.016521,
     "end_time": "2022-09-30T19:12:49.052413",
     "exception": false,
     "start_time": "2022-09-30T19:12:49.035892",
     "status": "completed"
    },
    "tags": []
   },
   "outputs": [],
   "source": [
    "# Lines below will give you a hint or solution code\n",
    "#q_4.hint()\n",
    "# q_4.solution()"
   ]
  },
  {
   "cell_type": "markdown",
   "id": "66c5e07f",
   "metadata": {
    "papermill": {
     "duration": 0.00698,
     "end_time": "2022-09-30T19:12:49.066684",
     "exception": false,
     "start_time": "2022-09-30T19:12:49.059704",
     "status": "completed"
    },
    "tags": []
   },
   "source": [
    "# 5) Use a Grouped Transform\n",
    "\n",
    "The value of a home often depends on how it compares to typical homes in its neighborhood. Create a feature `MedNhbdArea` that describes the *median* of `GrLivArea` grouped on `Neighborhood`."
   ]
  },
  {
   "cell_type": "code",
   "execution_count": 11,
   "id": "665775d5",
   "metadata": {
    "execution": {
     "iopub.execute_input": "2022-09-30T19:12:49.083324Z",
     "iopub.status.busy": "2022-09-30T19:12:49.082926Z",
     "iopub.status.idle": "2022-09-30T19:12:49.102455Z",
     "shell.execute_reply": "2022-09-30T19:12:49.101417Z"
    },
    "lines_to_next_cell": 0,
    "papermill": {
     "duration": 0.031167,
     "end_time": "2022-09-30T19:12:49.105153",
     "exception": false,
     "start_time": "2022-09-30T19:12:49.073986",
     "status": "completed"
    },
    "tags": []
   },
   "outputs": [
    {
     "data": {
      "application/javascript": [
       "parent.postMessage({\"jupyterEvent\": \"custom.exercise_interaction\", \"data\": {\"outcomeType\": 1, \"valueTowardsCompletion\": 0.2, \"interactionType\": 1, \"questionType\": 2, \"questionId\": \"5_Q5\", \"learnToolsVersion\": \"0.3.4\", \"failureMessage\": \"\", \"exceptionClass\": \"\", \"trace\": \"\"}}, \"*\")"
      ],
      "text/plain": [
       "<IPython.core.display.Javascript object>"
      ]
     },
     "metadata": {},
     "output_type": "display_data"
    },
    {
     "data": {
      "text/markdown": [
       "<span style=\"color:#33cc33\">Correct</span>"
      ],
      "text/plain": [
       "Correct"
      ]
     },
     "metadata": {},
     "output_type": "display_data"
    }
   ],
   "source": [
    "X_5 = pd.DataFrame()\n",
    "\n",
    "# YOUR CODE HERE\n",
    "X_5[\"MedNhbdArea\"] = df.groupby(\"Neighborhood\")[\"GrLivArea\"].transform(\"median\")\n",
    "\n",
    "# Check your answer\n",
    "q_5.check()"
   ]
  },
  {
   "cell_type": "code",
   "execution_count": 12,
   "id": "9b75d1f2",
   "metadata": {
    "execution": {
     "iopub.execute_input": "2022-09-30T19:12:49.122294Z",
     "iopub.status.busy": "2022-09-30T19:12:49.121884Z",
     "iopub.status.idle": "2022-09-30T19:12:49.127228Z",
     "shell.execute_reply": "2022-09-30T19:12:49.125942Z"
    },
    "lines_to_next_cell": 0,
    "papermill": {
     "duration": 0.017222,
     "end_time": "2022-09-30T19:12:49.129821",
     "exception": false,
     "start_time": "2022-09-30T19:12:49.112599",
     "status": "completed"
    },
    "tags": []
   },
   "outputs": [],
   "source": [
    "# Lines below will give you a hint or solution code\n",
    "#q_5.hint()\n",
    "# q_5.solution()"
   ]
  },
  {
   "cell_type": "markdown",
   "id": "003b7685",
   "metadata": {
    "papermill": {
     "duration": 0.007073,
     "end_time": "2022-09-30T19:12:49.144409",
     "exception": false,
     "start_time": "2022-09-30T19:12:49.137336",
     "status": "completed"
    },
    "tags": []
   },
   "source": [
    "Now you've made your first new feature set! If you like, you can run the cell below to score the model with all of your new features added:"
   ]
  },
  {
   "cell_type": "code",
   "execution_count": 13,
   "id": "e6e163bd",
   "metadata": {
    "execution": {
     "iopub.execute_input": "2022-09-30T19:12:49.161874Z",
     "iopub.status.busy": "2022-09-30T19:12:49.161419Z",
     "iopub.status.idle": "2022-09-30T19:12:54.218883Z",
     "shell.execute_reply": "2022-09-30T19:12:54.217762Z"
    },
    "papermill": {
     "duration": 5.069195,
     "end_time": "2022-09-30T19:12:54.221547",
     "exception": false,
     "start_time": "2022-09-30T19:12:49.152352",
     "status": "completed"
    },
    "tags": []
   },
   "outputs": [
    {
     "data": {
      "text/plain": [
       "0.13847331710099203"
      ]
     },
     "execution_count": 13,
     "metadata": {},
     "output_type": "execute_result"
    }
   ],
   "source": [
    "X_new = X.join([X_1, X_2, X_3, X_4, X_5])\n",
    "score_dataset(X_new, y)"
   ]
  },
  {
   "cell_type": "markdown",
   "id": "5ac9291e",
   "metadata": {
    "papermill": {
     "duration": 0.007315,
     "end_time": "2022-09-30T19:12:54.236892",
     "exception": false,
     "start_time": "2022-09-30T19:12:54.229577",
     "status": "completed"
    },
    "tags": []
   },
   "source": [
    "# Keep Going #\n",
    "\n",
    "[**Untangle spatial relationships**](https://www.kaggle.com/ryanholbrook/clustering-with-k-means) by adding cluster labels to your dataset."
   ]
  },
  {
   "cell_type": "markdown",
   "id": "7c642798",
   "metadata": {
    "papermill": {
     "duration": 0.007264,
     "end_time": "2022-09-30T19:12:54.251645",
     "exception": false,
     "start_time": "2022-09-30T19:12:54.244381",
     "status": "completed"
    },
    "tags": []
   },
   "source": [
    "---\n",
    "\n",
    "\n",
    "\n",
    "\n",
    "*Have questions or comments? Visit the [course discussion forum](https://www.kaggle.com/learn/feature-engineering/discussion) to chat with other learners.*"
   ]
  }
 ],
 "metadata": {
  "kernelspec": {
   "display_name": "Python 3",
   "language": "python",
   "name": "python3"
  },
  "language_info": {
   "codemirror_mode": {
    "name": "ipython",
    "version": 3
   },
   "file_extension": ".py",
   "mimetype": "text/x-python",
   "name": "python",
   "nbconvert_exporter": "python",
   "pygments_lexer": "ipython3",
   "version": "3.7.12"
  },
  "papermill": {
   "default_parameters": {},
   "duration": 17.25038,
   "end_time": "2022-09-30T19:12:54.981499",
   "environment_variables": {},
   "exception": null,
   "input_path": "__notebook__.ipynb",
   "output_path": "__notebook__.ipynb",
   "parameters": {},
   "start_time": "2022-09-30T19:12:37.731119",
   "version": "2.3.4"
  }
 },
 "nbformat": 4,
 "nbformat_minor": 5
}
